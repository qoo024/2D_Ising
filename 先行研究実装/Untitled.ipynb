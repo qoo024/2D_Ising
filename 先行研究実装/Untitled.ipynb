{
 "cells": [
  {
   "cell_type": "code",
   "execution_count": 1,
   "metadata": {},
   "outputs": [],
   "source": [
    "import numpy as np\n",
    "import matplotlib.pyplot as plt\n",
    "from numpy.fft import fftn"
   ]
  },
  {
   "cell_type": "code",
   "execution_count": 16,
   "metadata": {},
   "outputs": [],
   "source": [
    "nx = 30 #nx*nxが格子数\n",
    "\n",
    "phai = np.random.rand(nx,nx)/10 + 1\n",
    "\n",
    "mu = np.random.normal(loc = 0.0, scale = 0.3, size  = (nx, nx))\n",
    "lambda_ = 1 + mu/4"
   ]
  },
  {
   "cell_type": "code",
   "execution_count": 17,
   "metadata": {},
   "outputs": [],
   "source": [
    "phai_k = fftn(phai)"
   ]
  },
  {
   "cell_type": "code",
   "execution_count": 20,
   "metadata": {},
   "outputs": [],
   "source": [
    "t = 0\n",
    "\n",
    "a_0 = 4\n",
    "a_1 = 2 * np.pi\n",
    "\n",
    "alpha = 1.5\n",
    "beta = 2.0\n",
    "gamma = 2*beta/a_1\n",
    "\n",
    "h_ini = 1.5\n",
    "v = 0.01\n",
    "h = h_ini - v * t"
   ]
  },
  {
   "cell_type": "code",
   "execution_count": null,
   "metadata": {},
   "outputs": [],
   "source": []
  }
 ],
 "metadata": {
  "kernelspec": {
   "display_name": "Python 3",
   "language": "python",
   "name": "python3"
  },
  "language_info": {
   "codemirror_mode": {
    "name": "ipython",
    "version": 3
   },
   "file_extension": ".py",
   "mimetype": "text/x-python",
   "name": "python",
   "nbconvert_exporter": "python",
   "pygments_lexer": "ipython3",
   "version": "3.6.6"
  }
 },
 "nbformat": 4,
 "nbformat_minor": 2
}
