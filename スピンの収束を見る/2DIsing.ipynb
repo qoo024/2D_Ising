{
 "cells": [
  {
   "cell_type": "code",
   "execution_count": 1,
   "metadata": {},
   "outputs": [],
   "source": [
    "import copy\n",
    "\n",
    "import numpy as np\n",
    "import matplotlib.pyplot as plt"
   ]
  },
  {
   "cell_type": "code",
   "execution_count": 20,
   "metadata": {},
   "outputs": [
    {
     "data": {
      "image/png": "[encoded data removed]",
      "text/plain": [
       "<Figure size 432x288 with 1 Axes>"
      ]
     },
     "metadata": {
      "needs_background": "light"
     },
     "output_type": "display_data"
    },
    {
     "data": {
      "image/png": "[encoded data removed]",
      "text/plain": [
       "<Figure size 432x288 with 1 Axes>"
      ]
     },
     "metadata": {
      "needs_background": "light"
     },
     "output_type": "display_data"
    },
    {
     "data": {
      "image/png": "[encoded data removed]",
      "text/plain": [
       "<Figure size 432x288 with 1 Axes>"
      ]
     },
     "metadata": {
      "needs_background": "light"
     },
     "output_type": "display_data"
    },
    {
     "data": {
      "image/png": "[encoded data removed]",
      "text/plain": [
       "<Figure size 432x288 with 1 Axes>"
      ]
     },
     "metadata": {
      "needs_background": "light"
     },
     "output_type": "display_data"
    },
    {
     "data": {
      "image/png": "[encoded data removed]",
      "text/plain": [
       "<Figure size 432x288 with 1 Axes>"
      ]
     },
     "metadata": {
      "needs_background": "light"
     },
     "output_type": "display_data"
    },
    {
     "data": {
      "image/png": "[encoded data removed]",
      "text/plain": [
       "<Figure size 432x288 with 1 Axes>"
      ]
     },
     "metadata": {
      "needs_background": "light"
     },
     "output_type": "display_data"
    }
   ],
   "source": [
    "class Ising2D:\n",
    "    def __init__(self,x = 20, y = 20, seed = 0):\n",
    "        np.random.seed(seed)\n",
    "        self.dimx = x\n",
    "        self.dimy = y\n",
    "        self.xy = np.random.choice([-1,1], x*y)\n",
    "        self.xy = self.xy.reshape(x,y)\n",
    "        self.E = 0\n",
    "        self.h = 0\n",
    "        self.J = 1\n",
    "        self.neighbors = [[-1,0],[1,0],[0,-1],[0,1]]\n",
    "        self.T = 1\n",
    "\n",
    "    def main(self):\n",
    "        self.MC(5000)\n",
    "        \n",
    "    def calcE(self,xy):\n",
    "        E = 0\n",
    "        for x in range(self.dimx):\n",
    "            for y in range(self.dimy):\n",
    "                for neighbor in self.neighbors:\n",
    "                    nx = (x + neighbor[0]) % self.dimx\n",
    "                    if (nx < 0):\n",
    "                        nx = self.dimx\n",
    "                    ny = (y + neighbor[1]) % self.dimy\n",
    "                    if (ny < 0):\n",
    "                        ny = self.dimy\n",
    "\n",
    "                    E += -self.J * xy[x][y] * xy[nx][ny]\n",
    "        return E\n",
    "    \n",
    "    def MC(self, loop):\n",
    "        for i in range(loop):\n",
    "            mp = np.random.randint(0, self.dimx, 2)  #ランダムな一点の座標を表すリスト\n",
    "            txy = copy.deepcopy(self.xy)            #txyはスピンの分布self.xyのdeep copy\n",
    "            txy[mp[0],mp[1]] = -txy[mp[0], mp[1]]   #txyのうちの一つのスピンをフリップする (deep copyのためself.xyは影響なし)\n",
    "            Epre = self.calcE(self.xy)              #フリップ前後のエネルギーを計算\n",
    "            Eafter = self.calcE(txy)\n",
    "            if Eafter < Epre:\n",
    "                self.xy = txy                       #エネルギーが下がっていれば状態を遷移する\n",
    "            else:\n",
    "                pro = np.random.random()            #pro は [0.0, 1.0)の一様分布からのサンプル\n",
    "                if pro < np.exp(-(Eafter-Epre)/self.T):  #メトロポリス法\n",
    "                    self.xy = txy\n",
    "            if i % 1000 == 0 or i == (loop - 1):\n",
    "                self.show(i)\n",
    "    \n",
    "    def show(self, index):\n",
    "        fig = plt.figure()\n",
    "        ax = fig.add_subplot(111)\n",
    "        ax.matshow(self.xy)\n",
    "        \n",
    "        filename = \"ising%05d.png\" % (index)\n",
    "        plt.savefig(filename)\n",
    "\n",
    "if __name__ == \"__main__\":                            #importされた時に実行されない\n",
    "    tmp = Ising2D()                                   #Ising2Dクラスのオブジェクトを生成\n",
    "    tmp.main()                                        #メインメソッドを実行\n",
    "                \n",
    "            "
   ]
  },
  {
   "cell_type": "raw",
   "metadata": {},
   "source": [
    "参考文献 : http://oimokihujin.hatenablog.com/entry/2015/10/30/180435"
   ]
  },
  {
   "cell_type": "code",
   "execution_count": null,
   "metadata": {},
   "outputs": [],
   "source": []
  }
 ],
 "metadata": {
  "kernelspec": {
   "display_name": "Python 3",
   "language": "python",
   "name": "python3"
  },
  "language_info": {
   "codemirror_mode": {
    "name": "ipython",
    "version": 3
   },
   "file_extension": ".py",
   "mimetype": "text/x-python",
   "name": "python",
   "nbconvert_exporter": "python",
   "pygments_lexer": "ipython3",
   "version": "3.6.6"
  }
 },
 "nbformat": 4,
 "nbformat_minor": 2
}
