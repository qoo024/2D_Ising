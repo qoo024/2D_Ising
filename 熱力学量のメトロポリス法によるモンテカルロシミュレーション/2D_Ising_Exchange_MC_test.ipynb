{
 "cells": [
  {
   "cell_type": "raw",
   "metadata": {},
   "source": [
    "二次元イジングスピン系の熱力学量の交換法によるモンテカルロシミュレーション"
   ]
  },
  {
   "cell_type": "code",
   "execution_count": 1,
   "metadata": {},
   "outputs": [],
   "source": [
    "from random import random, randrange\n",
    "import numpy as np\n",
    "import matplotlib.pyplot as plt\n",
    "import copy"
   ]
  },
  {
   "cell_type": "code",
   "execution_count": null,
   "metadata": {},
   "outputs": [],
   "source": [
    "転移温度 2.2691"
   ]
  },
  {
   "cell_type": "code",
   "execution_count": 147,
   "metadata": {},
   "outputs": [],
   "source": [
    "#交換法\n",
    "\n",
    "#ランダムな初期状態生成\n",
    "Nx = 20\n",
    "Ny = 20\n",
    "s = np.random.randint(0,2,(Nx,20))\n",
    "def Initial_rand(s, Nx, Ny):\n",
    "    for i in range(Nx):\n",
    "        for j in range(Ny):\n",
    "            if s[i,j] == 0:\n",
    "                s[i,j] = -1\n",
    "    return s\n",
    "\n",
    "\n",
    "\n",
    "def each_Ecalc(s, Nx, Ny):\n",
    "    dum = 0\n",
    "    \n",
    "    #右側のスピンとの相互作用\n",
    "    for i in range(0, Nx):\n",
    "        for j in range(0, Ny):\n",
    "            \n",
    "            migi = i + 1\n",
    "            \n",
    "            if migi == Nx:\n",
    "                migi = 0\n",
    "            dum += s[i,j]*s[migi,j]\n",
    "    \n",
    "    #上側のスピンとの相互作用\n",
    "    for i in range(0, Nx):\n",
    "        for j in range(0,Ny):\n",
    "            \n",
    "            ue = j+1\n",
    "            \n",
    "            if ue == Ny:\n",
    "                ue = 0\n",
    "            \n",
    "            dum += s[i,j]*s[i,ue]\n",
    "            \n",
    "    return dum\n",
    "\n",
    "#レプリカ全ての重み付きエネルギー和、要らなかった...\n",
    "def total_Ecalc(repulica_list, KBT_array):\n",
    "    energy_list = []\n",
    "    for i in range(len(repulica_list)):\n",
    "        energy_list.append(each_Ecalc(repulica_list[i],Nx,Ny))\n",
    "        \n",
    "    energy_array = np.array(energy_list)  #ndarrayに変換\n",
    "    \n",
    "    total_E = np.sum(energy_array/KBT_array)\n",
    "    return total_E\n",
    "\n",
    "#スピンフリップによる状態更新\n",
    "def spin_update(repulica_list, KBT_array, energy_list):\n",
    "    for t in range(len(repulica_list)):\n",
    "        s = repulica_list[t]\n",
    "        i = randrange(Nx)\n",
    "        j = randrange(Ny)\n",
    "\n",
    "        s_trial = s.copy()   #deep copyに相当\n",
    "        s_trial[i,j] = -1*s[i,j]\n",
    "        if i+1 != Nx and j+1 != Ny:\n",
    "            delta_E = 2*s_trial[i,j]*(-1*J)*(s[i+1,j]+s[i-1,j]+s[i,j+1]+s[i,j-1])-B*(s_trial[i,j]-s[i,j])\n",
    "        elif i+1 == Nx and j+1 != Ny:\n",
    "            delta_E = 2*s_trial[i,j]*(-1*J)*(s[0,j]+s[i-1,j]+s[i,j+1]+s[i,j-1])-B*(s_trial[i,j]-s[i,j])\n",
    "        elif i+1 != Nx and j+1 == Ny:\n",
    "            delta_E = 2*s_trial[i,j]*(-1*J)*(s[i+1,j]+s[i-1,j]+s[i,0]+s[i,j-1])-B*(s_trial[i,j]-s[i,j])\n",
    "        elif i+1 == Nx and j+1 == Ny:\n",
    "            delta_E = 2*s_trial[i,j]*(-1*J)*(s[0,j]+s[i-1,j]+s[i,0]+s[i,j-1])-B*(s_trial[i,j]-s[i,j])\n",
    "            \n",
    "        #メトロポリス法による状態更新\n",
    "        if delta_E < 0:\n",
    "            repulica_list[t] = s_trial\n",
    "            energy_list[t] = energy_list[t] + delta_E\n",
    "        else:\n",
    "            if random() < np.exp(-delta_E/KBT_array[t]):\n",
    "                repulica_list[t] = s_trial\n",
    "                energy_list[t] = energy_list[t] + delta_E\n",
    "        \n",
    "    return (repulica_list, energy_list)\n",
    "\n",
    "#レプリカ間の交換1\n",
    "def repulica_exchange_even(repulica_list, KBT_array, energy_list):\n",
    "    for j in range(int(n/2)):       \n",
    "        i = 2*j\n",
    "        delta_ = (KBT_array[i+1]**(-1)-KBT_array[i]**(-1))*(energy_list[i] - energy_list[i+1])\n",
    "        \n",
    "        if delta_ < 0:\n",
    "            x = repulica_list[i]\n",
    "            repulica_list[i] = repulica_list[i+1]\n",
    "            repulica_list[i+1] = x\n",
    "            \n",
    "            y = energy_list[i]\n",
    "            energy_list[i] = energy_list[i+1]\n",
    "            energy_list[i+1] = y\n",
    "        else:\n",
    "            if random() < np.exp(-delta_):\n",
    "                x = repulica_list[i]\n",
    "                repulica_list[i] = repulica_list[i+1]\n",
    "                repulica_list[i+1] = x\n",
    "                \n",
    "                y = energy_list[i]\n",
    "                energy_list[i] = energy_list[i+1]\n",
    "                energy_list[i+1] = y\n",
    "                \n",
    "    return  (repulica_list, energy_list)\n",
    "\n",
    "#レプリカ間の交換2\n",
    "def repulica_exchange_odd(repulica_list, KBT_array, energy_list):\n",
    "    for j in range(int(n/2)-1):     \n",
    "        i = 2*j + 1\n",
    "        delta_ = (KBT_array[i+1]**(-1)-KBT_array[i]**(-1))*(energy_list[i] - energy_list[i+1])\n",
    "        \n",
    "        if delta_ < 0:\n",
    "            x = repulica_list[i]\n",
    "            repulica_list[i] = repulica_list[i+1]\n",
    "            repulica_list[i+1] = x\n",
    "            \n",
    "            y = energy_list[i]\n",
    "            energy_list[i] = energy_list[i+1]\n",
    "            energy_list[i+1] = y\n",
    "        else:\n",
    "            if random() < np.exp(-delta_):\n",
    "                x = repulica_list[i]\n",
    "                repulica_list[i] = repulica_list[i+1]\n",
    "                repulica_list[i+1] = x\n",
    "                \n",
    "                y = energy_list[i]\n",
    "                energy_list[i] = energy_list[i+1]\n",
    "                energy_list[i+1] = y\n",
    "                \n",
    "    return  (repulica_list, energy_list)"
   ]
  },
  {
   "cell_type": "code",
   "execution_count": 74,
   "metadata": {},
   "outputs": [
    {
     "data": {
      "image/png": "[encoded data removed]",
      "text/plain": [
       "<Figure size 432x288 with 1 Axes>"
      ]
     },
     "metadata": {
      "needs_background": "light"
     },
     "output_type": "display_data"
    }
   ],
   "source": [
    "#交換なしで並列計算してみる。\n",
    "#レプリカ300個\n",
    "Nx = 20\n",
    "Ny = 20\n",
    "Ntot = Nx*Ny\n",
    "J = 1 #交換相互作用\n",
    "B = 0.0 #外部磁場\n",
    "steps = 40000 #MCステップ\n",
    "avsteps = int(steps/5) #最後のsteps/5回分だけを採用し、その前はバーンイン\n",
    "\n",
    "repulica_list = []\n",
    "n = 300 \n",
    "for i in range(n):\n",
    "    repulica_list.append(Initial_rand(np.random.randint(0,2,(20,20)),Nx,Ny))\n",
    "    \n",
    "KBT_array = np.linspace(0.001, 6, n) #温度を0.001から6までn刻みで変動させる\n",
    "\n",
    "energy_list = []\n",
    "for i in range(len(repulica_list)):\n",
    "    energy_list.append(each_Ecalc(repulica_list[i],Nx,Ny))\n",
    "    \n",
    "energy_array = np.zeros((n,steps+1))\n",
    "\n",
    "energy_array[:,0] = energy_list\n",
    "    \n",
    "\n",
    "\n",
    "#MCMC\n",
    "for i in range(steps):\n",
    "    repulica_list, energy_list = spin_update(repulica_list, KBT_array, energy_list)\n",
    "    energy_array[:,i+1] = energy_list\n",
    "\n",
    "ETplot = []\n",
    "for i in range(n):\n",
    "    ETplot.append((np.sum(energy_array[i, -avsteps:])/avsteps)/Ntot)\n",
    "\n",
    "plt.plot(KBT_array, ETplot)\n",
    "plt.ylabel(\"Energy per spin\")\n",
    "plt.xlabel(\"$k_{B}T$\")\n",
    "plt.show()"
   ]
  },
  {
   "cell_type": "code",
   "execution_count": 98,
   "metadata": {},
   "outputs": [
    {
     "data": {
      "image/png": "[encoded data removed]",
      "text/plain": [
       "<Figure size 432x288 with 1 Axes>"
      ]
     },
     "metadata": {
      "needs_background": "light"
     },
     "output_type": "display_data"
    }
   ],
   "source": [
    "#温度間の交換を入れてみる。\n",
    "#レプリカ300個\n",
    "Nx = 20\n",
    "Ny = 20\n",
    "Ntot = Nx*Ny\n",
    "J = 1 #交換相互作用\n",
    "B = 0.0 #外部磁場\n",
    "steps = 10000 #MCステップ\n",
    "avsteps = int(steps/5) #最後のsteps/5回分だけを採用し、その前はバーンイン\n",
    "\n",
    "repulica_list = []\n",
    "n = 300 #偶数\n",
    "for i in range(n):\n",
    "    repulica_list.append(Initial_rand(np.random.randint(0,2,(20,20)),Nx,Ny))\n",
    "    \n",
    "KBT_array = np.linspace(0.001, 6, n) #温度を0.001から6までn刻みで変動させる\n",
    "\n",
    "energy_list = []\n",
    "for i in range(len(repulica_list)):\n",
    "    energy_list.append(-J*each_Ecalc(repulica_list[i],Nx,Ny))\n",
    "    \n",
    "energy_array = np.zeros((n,steps+1))\n",
    "\n",
    "energy_array[:,0] = energy_list\n",
    "    \n",
    "\n",
    "\n",
    "#Exchange MC\n",
    "for i in range(steps):\n",
    "    if i % 2 == 1:\n",
    "        #まずスピンフリップ\n",
    "        repulica_list, energy_list = spin_update(repulica_list, KBT_array, energy_list)\n",
    "        energy_array[:,i+1] = energy_list\n",
    "        \n",
    "        #次に温度交換\n",
    "        repulica_list, energy_list = repulica_exchange_odd(repulica_list, KBT_array, energy_list)\n",
    "        energy_array[:,i+1] = energy_list\n",
    "    if i % 2 == 0:\n",
    "        #まずスピンフリップ\n",
    "        repulica_list, energy_list = spin_update(repulica_list, KBT_array, energy_list)\n",
    "        energy_array[:,i+1] = energy_list\n",
    "        \n",
    "        #次に温度交換\n",
    "        repulica_list, energy_list = repulica_exchange_even(repulica_list, KBT_array, energy_list)\n",
    "        energy_array[:,i+1] = energy_list\n",
    "        \n",
    "ETplot = []\n",
    "for i in range(n):\n",
    "    ETplot.append((np.sum(energy_array[i, -avsteps:])/avsteps)/Ntot)\n",
    "\n",
    "plt.plot(KBT_array, ETplot)\n",
    "plt.ylabel(\"Energy per spin\")\n",
    "plt.xlabel(\"$k_{B}T$\")\n",
    "plt.show()"
   ]
  },
  {
   "cell_type": "code",
   "execution_count": 99,
   "metadata": {},
   "outputs": [
    {
     "name": "stdout",
     "output_type": "stream",
     "text": [
      "-1.760935\n"
     ]
    }
   ],
   "source": [
    "print(ETplot[0])"
   ]
  },
  {
   "cell_type": "code",
   "execution_count": 96,
   "metadata": {},
   "outputs": [
    {
     "data": {
      "image/png": "[encoded data removed]",
      "text/plain": [
       "<Figure size 432x288 with 1 Axes>"
      ]
     },
     "metadata": {
      "needs_background": "light"
     },
     "output_type": "display_data"
    }
   ],
   "source": [
    "#温度間の交換を入れてみる。\n",
    "#40000ステップ\n",
    "#レプリカ300個\n",
    "Nx = 20\n",
    "Ny = 20\n",
    "Ntot = Nx*Ny\n",
    "J = 1 #交換相互作用\n",
    "B = 0.0 #外部磁場\n",
    "steps = 40000 #MCステップ\n",
    "avsteps = int(steps/5) #最後のsteps/5回分だけを採用し、その前はバーンイン\n",
    "\n",
    "repulica_list = []\n",
    "n = 300 #偶数\n",
    "for i in range(n):\n",
    "    repulica_list.append(Initial_rand(np.random.randint(0,2,(20,20)),Nx,Ny))\n",
    "    \n",
    "KBT_array = np.linspace(0.001, 6, n) #温度を0.001から6までn刻みで変動させる\n",
    "\n",
    "#初期エネルギー計算\n",
    "energy_list = []\n",
    "for i in range(len(repulica_list)):\n",
    "    energy_list.append(-J*each_Ecalc(repulica_list[i],Nx,Ny))\n",
    "    \n",
    "energy_array = np.zeros((n,steps+1))\n",
    "\n",
    "energy_array[:,0] = energy_list\n",
    "    \n",
    "\n",
    "\n",
    "#Exchange MC\n",
    "for i in range(steps):\n",
    "    if i % 2 == 1:\n",
    "        #まずスピンフリップ\n",
    "        repulica_list, energy_list = spin_update(repulica_list, KBT_array, energy_list)\n",
    "        energy_array[:,i+1] = energy_list\n",
    "        \n",
    "        #次に温度交換\n",
    "        repulica_list, energy_list = repulica_exchange_odd(repulica_list, KBT_array, energy_list)\n",
    "        energy_array[:,i+1] = energy_list\n",
    "    if i % 2 == 0:\n",
    "        #まずスピンフリップ\n",
    "        repulica_list, energy_list = spin_update(repulica_list, KBT_array, energy_list)\n",
    "        energy_array[:,i+1] = energy_list\n",
    "        \n",
    "        #次に温度交換\n",
    "        repulica_list, energy_list = repulica_exchange_even(repulica_list, KBT_array, energy_list)\n",
    "        energy_array[:,i+1] = energy_list\n",
    "        \n",
    "ETplot = []\n",
    "for i in range(n):\n",
    "    ETplot.append((np.sum(energy_array[i, -avsteps:])/avsteps)/Ntot)\n",
    "\n",
    "plt.plot(KBT_array, ETplot)\n",
    "plt.ylabel(\"Energy per spin\")\n",
    "plt.xlabel(\"$k_{B}T$\")\n",
    "plt.show()"
   ]
  },
  {
   "cell_type": "code",
   "execution_count": 97,
   "metadata": {},
   "outputs": [
    {
     "name": "stdout",
     "output_type": "stream",
     "text": [
      "-1.82\n"
     ]
    }
   ],
   "source": [
    "print(ETplot[0])"
   ]
  },
  {
   "cell_type": "code",
   "execution_count": 100,
   "metadata": {},
   "outputs": [
    {
     "data": {
      "image/png": "[encoded data removed]",
      "text/plain": [
       "<Figure size 432x288 with 1 Axes>"
      ]
     },
     "metadata": {
      "needs_background": "light"
     },
     "output_type": "display_data"
    }
   ],
   "source": [
    "#温度間の交換を入れてみる。\n",
    "#60000ステップ\n",
    "#レプリカ300個\n",
    "Nx = 20\n",
    "Ny = 20\n",
    "Ntot = Nx*Ny\n",
    "J = 1 #交換相互作用\n",
    "B = 0.0 #外部磁場\n",
    "steps = 60000 #MCステップ\n",
    "avsteps = int(steps/5) #最後のsteps/5回分だけを採用し、その前はバーンイン\n",
    "\n",
    "repulica_list = []\n",
    "n = 300 #偶数\n",
    "for i in range(n):\n",
    "    repulica_list.append(Initial_rand(np.random.randint(0,2,(20,20)),Nx,Ny))\n",
    "    \n",
    "KBT_array = np.linspace(0.001, 6, n) #温度を0.001から6までn刻みで変動させる\n",
    "\n",
    "#初期エネルギー計算\n",
    "energy_list = []\n",
    "for i in range(len(repulica_list)):\n",
    "    energy_list.append(-J*each_Ecalc(repulica_list[i],Nx,Ny))\n",
    "    \n",
    "energy_array = np.zeros((n,steps+1))\n",
    "\n",
    "energy_array[:,0] = energy_list\n",
    "    \n",
    "\n",
    "\n",
    "#Exchange MC\n",
    "for i in range(steps):\n",
    "    if i % 2 == 1:\n",
    "        #まずスピンフリップ\n",
    "        repulica_list, energy_list = spin_update(repulica_list, KBT_array, energy_list)\n",
    "        energy_array[:,i+1] = energy_list\n",
    "        \n",
    "        #次に温度交換\n",
    "        repulica_list, energy_list = repulica_exchange_odd(repulica_list, KBT_array, energy_list)\n",
    "        energy_array[:,i+1] = energy_list\n",
    "    if i % 2 == 0:\n",
    "        #まずスピンフリップ\n",
    "        repulica_list, energy_list = spin_update(repulica_list, KBT_array, energy_list)\n",
    "        energy_array[:,i+1] = energy_list\n",
    "        \n",
    "        #次に温度交換\n",
    "        repulica_list, energy_list = repulica_exchange_even(repulica_list, KBT_array, energy_list)\n",
    "        energy_array[:,i+1] = energy_list\n",
    "        \n",
    "ETplot = []\n",
    "for i in range(n):\n",
    "    ETplot.append((np.sum(energy_array[i, -avsteps:])/avsteps)/Ntot)\n",
    "\n",
    "plt.plot(KBT_array, ETplot)\n",
    "plt.ylabel(\"Energy per spin\")\n",
    "plt.xlabel(\"$k_{B}T$\")\n",
    "plt.show()"
   ]
  },
  {
   "cell_type": "code",
   "execution_count": 101,
   "metadata": {},
   "outputs": [
    {
     "name": "stdout",
     "output_type": "stream",
     "text": [
      "-1.816705\n"
     ]
    }
   ],
   "source": [
    "print(ETplot[0])"
   ]
  },
  {
   "cell_type": "code",
   "execution_count": 106,
   "metadata": {},
   "outputs": [
    {
     "data": {
      "text/plain": [
       "<matplotlib.image.AxesImage at 0x108b3cf60>"
      ]
     },
     "execution_count": 106,
     "metadata": {},
     "output_type": "execute_result"
    },
    {
     "data": {
      "image/png": "[encoded data removed]",
      "text/plain": [
       "<Figure size 432x288 with 1 Axes>"
      ]
     },
     "metadata": {
      "needs_background": "light"
     },
     "output_type": "display_data"
    }
   ],
   "source": [
    "fig = plt.figure()\n",
    "ax = fig.add_subplot(111)\n",
    "ax.matshow(repulica_list[0])"
   ]
  },
  {
   "cell_type": "code",
   "execution_count": 107,
   "metadata": {},
   "outputs": [
    {
     "data": {
      "image/png": "[encoded data removed]",
      "text/plain": [
       "<Figure size 432x288 with 1 Axes>"
      ]
     },
     "metadata": {
      "needs_background": "light"
     },
     "output_type": "display_data"
    }
   ],
   "source": [
    "#温度間の交換を入れてみる。\n",
    "#100000ステップ\n",
    "#レプリカ300個\n",
    "Nx = 20\n",
    "Ny = 20\n",
    "Ntot = Nx*Ny\n",
    "J = 1 #交換相互作用\n",
    "B = 0.0 #外部磁場\n",
    "steps = 100000 #MCステップ\n",
    "avsteps = int(steps/5) #最後のsteps/5回分だけを採用し、その前はバーンイン\n",
    "\n",
    "repulica_list = []\n",
    "n = 300 #偶数\n",
    "for i in range(n):\n",
    "    repulica_list.append(Initial_rand(np.random.randint(0,2,(20,20)),Nx,Ny))\n",
    "    \n",
    "KBT_array = np.linspace(0.001, 6, n) #温度を0.001から6までn刻みで変動させる\n",
    "\n",
    "#初期エネルギー計算\n",
    "energy_list = []\n",
    "for i in range(len(repulica_list)):\n",
    "    energy_list.append(-J*each_Ecalc(repulica_list[i],Nx,Ny))\n",
    "    \n",
    "energy_array = np.zeros((n,steps+1))\n",
    "\n",
    "energy_array[:,0] = energy_list\n",
    "    \n",
    "\n",
    "\n",
    "#Exchange MC\n",
    "for i in range(steps):\n",
    "    if i % 2 == 1:\n",
    "        #まずスピンフリップ\n",
    "        repulica_list, energy_list = spin_update(repulica_list, KBT_array, energy_list)\n",
    "        energy_array[:,i+1] = energy_list\n",
    "        \n",
    "        #次に温度交換\n",
    "        repulica_list, energy_list = repulica_exchange_odd(repulica_list, KBT_array, energy_list)\n",
    "        energy_array[:,i+1] = energy_list\n",
    "    if i % 2 == 0:\n",
    "        #まずスピンフリップ\n",
    "        repulica_list, energy_list = spin_update(repulica_list, KBT_array, energy_list)\n",
    "        energy_array[:,i+1] = energy_list\n",
    "        \n",
    "        #次に温度交換\n",
    "        repulica_list, energy_list = repulica_exchange_even(repulica_list, KBT_array, energy_list)\n",
    "        energy_array[:,i+1] = energy_list\n",
    "        \n",
    "ETplot = []\n",
    "for i in range(n):\n",
    "    ETplot.append((np.sum(energy_array[i, -avsteps:])/avsteps)/Ntot)\n",
    "\n",
    "plt.plot(KBT_array, ETplot)\n",
    "plt.ylabel(\"Energy per spin\")\n",
    "plt.xlabel(\"$k_{B}T$\")\n",
    "plt.show()"
   ]
  },
  {
   "cell_type": "markdown",
   "metadata": {},
   "source": [
    "5分かかった。"
   ]
  },
  {
   "cell_type": "code",
   "execution_count": 108,
   "metadata": {},
   "outputs": [
    {
     "name": "stdout",
     "output_type": "stream",
     "text": [
      "-1.86\n"
     ]
    }
   ],
   "source": [
    "print(ETplot[0])"
   ]
  },
  {
   "cell_type": "code",
   "execution_count": 109,
   "metadata": {},
   "outputs": [
    {
     "data": {
      "text/plain": [
       "<matplotlib.image.AxesImage at 0x108e6fb38>"
      ]
     },
     "execution_count": 109,
     "metadata": {},
     "output_type": "execute_result"
    },
    {
     "data": {
      "image/png": "[encoded data removed]",
      "text/plain": [
       "<Figure size 432x288 with 1 Axes>"
      ]
     },
     "metadata": {
      "needs_background": "light"
     },
     "output_type": "display_data"
    }
   ],
   "source": [
    "fig = plt.figure()\n",
    "ax = fig.add_subplot(111)\n",
    "ax.matshow(repulica_list[0])"
   ]
  },
  {
   "cell_type": "code",
   "execution_count": 110,
   "metadata": {},
   "outputs": [
    {
     "data": {
      "image/png": "[encoded data removed]",
      "text/plain": [
       "<Figure size 432x288 with 1 Axes>"
      ]
     },
     "metadata": {
      "needs_background": "light"
     },
     "output_type": "display_data"
    }
   ],
   "source": [
    "#温度間の交換を入れてみる。\n",
    "#200000ステップ\n",
    "#レプリカ300個\n",
    "Nx = 20\n",
    "Ny = 20\n",
    "Ntot = Nx*Ny\n",
    "J = 1 #交換相互作用\n",
    "B = 0.0 #外部磁場\n",
    "steps = 200000 #MCステップ\n",
    "avsteps = int(steps/5) #最後のsteps/5回分だけを採用し、その前はバーンイン\n",
    "\n",
    "repulica_list = []\n",
    "n = 300 #偶数\n",
    "for i in range(n):\n",
    "    repulica_list.append(Initial_rand(np.random.randint(0,2,(20,20)),Nx,Ny))\n",
    "    \n",
    "KBT_array = np.linspace(0.001, 6, n) #温度を0.001から6までn刻みで変動させる\n",
    "\n",
    "#初期エネルギー計算\n",
    "energy_list = []\n",
    "for i in range(len(repulica_list)):\n",
    "    energy_list.append(-J*each_Ecalc(repulica_list[i],Nx,Ny))\n",
    "    \n",
    "energy_array = np.zeros((n,steps+1))\n",
    "\n",
    "energy_array[:,0] = energy_list\n",
    "    \n",
    "\n",
    "\n",
    "#Exchange MC\n",
    "for i in range(steps):\n",
    "    if i % 2 == 1:\n",
    "        #まずスピンフリップ\n",
    "        repulica_list, energy_list = spin_update(repulica_list, KBT_array, energy_list)\n",
    "        energy_array[:,i+1] = energy_list\n",
    "        \n",
    "        #次に温度交換\n",
    "        repulica_list, energy_list = repulica_exchange_odd(repulica_list, KBT_array, energy_list)\n",
    "        energy_array[:,i+1] = energy_list\n",
    "    if i % 2 == 0:\n",
    "        #まずスピンフリップ\n",
    "        repulica_list, energy_list = spin_update(repulica_list, KBT_array, energy_list)\n",
    "        energy_array[:,i+1] = energy_list\n",
    "        \n",
    "        #次に温度交換\n",
    "        repulica_list, energy_list = repulica_exchange_even(repulica_list, KBT_array, energy_list)\n",
    "        energy_array[:,i+1] = energy_list\n",
    "        \n",
    "ETplot = []\n",
    "for i in range(n):\n",
    "    ETplot.append((np.sum(energy_array[i, -avsteps:])/avsteps)/Ntot)\n",
    "\n",
    "plt.plot(KBT_array, ETplot)\n",
    "plt.ylabel(\"Energy per spin\")\n",
    "plt.xlabel(\"$k_{B}T$\")\n",
    "plt.show()"
   ]
  },
  {
   "cell_type": "raw",
   "metadata": {},
   "source": [
    "9分"
   ]
  },
  {
   "cell_type": "code",
   "execution_count": 111,
   "metadata": {},
   "outputs": [
    {
     "name": "stdout",
     "output_type": "stream",
     "text": [
      "-1.82\n"
     ]
    }
   ],
   "source": [
    "print(ETplot[0])"
   ]
  },
  {
   "cell_type": "code",
   "execution_count": 112,
   "metadata": {},
   "outputs": [
    {
     "data": {
      "text/plain": [
       "<matplotlib.image.AxesImage at 0x12baa8da0>"
      ]
     },
     "execution_count": 112,
     "metadata": {},
     "output_type": "execute_result"
    },
    {
     "data": {
      "image/png": "[encoded data removed]",
      "text/plain": [
       "<Figure size 432x288 with 1 Axes>"
      ]
     },
     "metadata": {
      "needs_background": "light"
     },
     "output_type": "display_data"
    }
   ],
   "source": [
    "fig = plt.figure()\n",
    "ax = fig.add_subplot(111)\n",
    "ax.matshow(repulica_list[0])"
   ]
  },
  {
   "cell_type": "code",
   "execution_count": 113,
   "metadata": {},
   "outputs": [
    {
     "data": {
      "image/png": "[encoded data removed]",
      "text/plain": [
       "<Figure size 432x288 with 1 Axes>"
      ]
     },
     "metadata": {
      "needs_background": "light"
     },
     "output_type": "display_data"
    }
   ],
   "source": [
    "#温度間の交換を入れてみる。\n",
    "#レプリカ数を増やしてみる。\n",
    "#60000ステップ\n",
    "#レプリカ400個\n",
    "Nx = 20\n",
    "Ny = 20\n",
    "Ntot = Nx*Ny\n",
    "J = 1 #交換相互作用\n",
    "B = 0.0 #外部磁場\n",
    "steps = 60000 #MCステップ\n",
    "avsteps = int(steps/5) #最後のsteps/5回分だけを採用し、その前はバーンイン\n",
    "\n",
    "repulica_list = []\n",
    "n = 400 #偶数\n",
    "for i in range(n):\n",
    "    repulica_list.append(Initial_rand(np.random.randint(0,2,(20,20)),Nx,Ny))\n",
    "    \n",
    "KBT_array = np.linspace(0.001, 6, n) #温度を0.001から6までn刻みで変動させる\n",
    "\n",
    "#初期エネルギー計算\n",
    "energy_list = []\n",
    "for i in range(len(repulica_list)):\n",
    "    energy_list.append(-J*each_Ecalc(repulica_list[i],Nx,Ny))\n",
    "    \n",
    "energy_array = np.zeros((n,steps+1))\n",
    "\n",
    "energy_array[:,0] = energy_list\n",
    "    \n",
    "\n",
    "\n",
    "#Exchange MC\n",
    "for i in range(steps):\n",
    "    if i % 2 == 1:\n",
    "        #まずスピンフリップ\n",
    "        repulica_list, energy_list = spin_update(repulica_list, KBT_array, energy_list)\n",
    "        energy_array[:,i+1] = energy_list\n",
    "        \n",
    "        #次に温度交換\n",
    "        repulica_list, energy_list = repulica_exchange_odd(repulica_list, KBT_array, energy_list)\n",
    "        energy_array[:,i+1] = energy_list\n",
    "    if i % 2 == 0:\n",
    "        #まずスピンフリップ\n",
    "        repulica_list, energy_list = spin_update(repulica_list, KBT_array, energy_list)\n",
    "        energy_array[:,i+1] = energy_list\n",
    "        \n",
    "        #次に温度交換\n",
    "        repulica_list, energy_list = repulica_exchange_even(repulica_list, KBT_array, energy_list)\n",
    "        energy_array[:,i+1] = energy_list\n",
    "        \n",
    "ETplot = []\n",
    "for i in range(n):\n",
    "    ETplot.append((np.sum(energy_array[i, -avsteps:])/avsteps)/Ntot)\n",
    "\n",
    "plt.plot(KBT_array, ETplot)\n",
    "plt.ylabel(\"Energy per spin\")\n",
    "plt.xlabel(\"$k_{B}T$\")\n",
    "plt.show()"
   ]
  },
  {
   "cell_type": "code",
   "execution_count": 114,
   "metadata": {},
   "outputs": [
    {
     "name": "stdout",
     "output_type": "stream",
     "text": [
      "-1.82\n"
     ]
    }
   ],
   "source": [
    "print(ETplot[0])"
   ]
  },
  {
   "cell_type": "code",
   "execution_count": 115,
   "metadata": {},
   "outputs": [
    {
     "data": {
      "text/plain": [
       "<matplotlib.image.AxesImage at 0x12bc07710>"
      ]
     },
     "execution_count": 115,
     "metadata": {},
     "output_type": "execute_result"
    },
    {
     "data": {
      "image/png": "[encoded data removed]",
      "text/plain": [
       "<Figure size 432x288 with 1 Axes>"
      ]
     },
     "metadata": {
      "needs_background": "light"
     },
     "output_type": "display_data"
    }
   ],
   "source": [
    "fig = plt.figure()\n",
    "ax = fig.add_subplot(111)\n",
    "ax.matshow(repulica_list[0])"
   ]
  },
  {
   "cell_type": "code",
   "execution_count": 116,
   "metadata": {},
   "outputs": [
    {
     "data": {
      "image/png": "[encoded data removed]",
      "text/plain": [
       "<Figure size 432x288 with 1 Axes>"
      ]
     },
     "metadata": {
      "needs_background": "light"
     },
     "output_type": "display_data"
    }
   ],
   "source": [
    "#温度間の交換を入れてみる。\n",
    "#温度幅を拡げてみる。\n",
    "#60000ステップ\n",
    "#レプリカ300個\n",
    "Nx = 20\n",
    "Ny = 20\n",
    "Ntot = Nx*Ny\n",
    "J = 1 #交換相互作用\n",
    "B = 0.0 #外部磁場\n",
    "steps = 60000 #MCステップ\n",
    "avsteps = int(steps/5) #最後のsteps/5回分だけを採用し、その前はバーンイン\n",
    "\n",
    "repulica_list = []\n",
    "n = 400 #偶数\n",
    "for i in range(n):\n",
    "    repulica_list.append(Initial_rand(np.random.randint(0,2,(20,20)),Nx,Ny))\n",
    "    \n",
    "KBT_array = np.linspace(0.001, 10, n) #温度を0.001から6までn刻みで変動させる\n",
    "\n",
    "#初期エネルギー計算\n",
    "energy_list = []\n",
    "for i in range(len(repulica_list)):\n",
    "    energy_list.append(-J*each_Ecalc(repulica_list[i],Nx,Ny))\n",
    "    \n",
    "energy_array = np.zeros((n,steps+1))\n",
    "\n",
    "energy_array[:,0] = energy_list\n",
    "    \n",
    "\n",
    "\n",
    "#Exchange MC\n",
    "for i in range(steps):\n",
    "    if i % 2 == 1:\n",
    "        #まずスピンフリップ\n",
    "        repulica_list, energy_list = spin_update(repulica_list, KBT_array, energy_list)\n",
    "        energy_array[:,i+1] = energy_list\n",
    "        \n",
    "        #次に温度交換\n",
    "        repulica_list, energy_list = repulica_exchange_odd(repulica_list, KBT_array, energy_list)\n",
    "        energy_array[:,i+1] = energy_list\n",
    "    if i % 2 == 0:\n",
    "        #まずスピンフリップ\n",
    "        repulica_list, energy_list = spin_update(repulica_list, KBT_array, energy_list)\n",
    "        energy_array[:,i+1] = energy_list\n",
    "        \n",
    "        #次に温度交換\n",
    "        repulica_list, energy_list = repulica_exchange_even(repulica_list, KBT_array, energy_list)\n",
    "        energy_array[:,i+1] = energy_list\n",
    "        \n",
    "ETplot = []\n",
    "for i in range(n):\n",
    "    ETplot.append((np.sum(energy_array[i, -avsteps:])/avsteps)/Ntot)\n",
    "\n",
    "plt.plot(KBT_array, ETplot)\n",
    "plt.ylabel(\"Energy per spin\")\n",
    "plt.xlabel(\"$k_{B}T$\")\n",
    "plt.show()"
   ]
  },
  {
   "cell_type": "code",
   "execution_count": 117,
   "metadata": {},
   "outputs": [
    {
     "name": "stdout",
     "output_type": "stream",
     "text": [
      "-1.84\n"
     ]
    }
   ],
   "source": [
    "print(ETplot[0])"
   ]
  },
  {
   "cell_type": "code",
   "execution_count": 118,
   "metadata": {},
   "outputs": [
    {
     "data": {
      "text/plain": [
       "<matplotlib.image.AxesImage at 0x108ab7c50>"
      ]
     },
     "execution_count": 118,
     "metadata": {},
     "output_type": "execute_result"
    },
    {
     "data": {
      "image/png": "[encoded data removed]",
      "text/plain": [
       "<Figure size 432x288 with 1 Axes>"
      ]
     },
     "metadata": {
      "needs_background": "light"
     },
     "output_type": "display_data"
    }
   ],
   "source": [
    "fig = plt.figure()\n",
    "ax = fig.add_subplot(111)\n",
    "ax.matshow(repulica_list[0])"
   ]
  },
  {
   "cell_type": "code",
   "execution_count": 150,
   "metadata": {},
   "outputs": [
    {
     "data": {
      "image/png": "[encoded data removed]",
      "text/plain": [
       "<Figure size 432x288 with 1 Axes>"
      ]
     },
     "metadata": {
      "needs_background": "light"
     },
     "output_type": "display_data"
    }
   ],
   "source": [
    "#端の状態更新のバグを除去\n",
    "#60000ステップ\n",
    "#レプリカ300個\n",
    "Nx = 20\n",
    "Ny = 20\n",
    "Ntot = Nx*Ny\n",
    "J = 1 #交換相互作用\n",
    "B = 0.0 #外部磁場\n",
    "steps = 60000 #MCステップ、1ステップにつき、スピン更新とレプリカ交換が含まれている。\n",
    "avsteps = int(2*steps/5) #最後のsteps*2/5回分だけを採用し、その前はバーンイン\n",
    "\n",
    "repulica_list = []\n",
    "n = 400 #偶数\n",
    "for i in range(n):\n",
    "    repulica_list.append(Initial_rand(np.random.randint(0,2,(20,20)),Nx,Ny))\n",
    "    \n",
    "KBT_array = np.linspace(0.001, 6, n) #温度を0.001から6までn刻みで変動させる\n",
    "\n",
    "#初期エネルギー計算\n",
    "energy_list = []\n",
    "for i in range(len(repulica_list)):\n",
    "    energy_list.append(-J*each_Ecalc(repulica_list[i],Nx,Ny))\n",
    "    \n",
    "energy_array = np.zeros((n,2*steps+1))\n",
    "\n",
    "energy_array[:,0] = energy_list\n",
    "    \n",
    "\n",
    "\n",
    "#Exchange MC\n",
    "for j in range(steps):\n",
    "    i = j * 2\n",
    "    if j % 2 == 1:\n",
    "        #まずスピンフリップ\n",
    "        repulica_list, energy_list = spin_update(repulica_list, KBT_array, energy_list)\n",
    "        energy_array[:,i+1] = energy_list\n",
    "        \n",
    "        #次に温度交換\n",
    "        repulica_list, energy_list = repulica_exchange_odd(repulica_list, KBT_array, energy_list)\n",
    "        energy_array[:,i+2] = energy_list\n",
    "    if j % 2 == 0:\n",
    "        #まずスピンフリップ\n",
    "        repulica_list, energy_list = spin_update(repulica_list, KBT_array, energy_list)\n",
    "        energy_array[:,i+1] = energy_list\n",
    "        \n",
    "        #次に温度交換\n",
    "        repulica_list, energy_list = repulica_exchange_even(repulica_list, KBT_array, energy_list)\n",
    "        energy_array[:,i+2] = energy_list\n",
    "        \n",
    "ETplot = []\n",
    "for i in range(n):\n",
    "    ETplot.append((np.sum(energy_array[i, -avsteps:])/avsteps)/Ntot)\n",
    "\n",
    "plt.plot(KBT_array, ETplot)\n",
    "plt.ylabel(\"Energy per spin\")\n",
    "plt.xlabel(\"$k_{B}T$\")\n",
    "plt.show()"
   ]
  },
  {
   "cell_type": "code",
   "execution_count": 151,
   "metadata": {},
   "outputs": [
    {
     "data": {
      "text/plain": [
       "<matplotlib.image.AxesImage at 0x11ce8b240>"
      ]
     },
     "execution_count": 151,
     "metadata": {},
     "output_type": "execute_result"
    },
    {
     "data": {
      "image/png": "[encoded data removed]",
      "text/plain": [
       "<Figure size 432x288 with 1 Axes>"
      ]
     },
     "metadata": {
      "needs_background": "light"
     },
     "output_type": "display_data"
    }
   ],
   "source": [
    "fig = plt.figure()\n",
    "ax = fig.add_subplot(111)\n",
    "ax.matshow(repulica_list[0])"
   ]
  },
  {
   "cell_type": "code",
   "execution_count": null,
   "metadata": {},
   "outputs": [],
   "source": []
  }
 ],
 "metadata": {
  "kernelspec": {
   "display_name": "Python 3",
   "language": "python",
   "name": "python3"
  },
  "language_info": {
   "codemirror_mode": {
    "name": "ipython",
    "version": 3
   },
   "file_extension": ".py",
   "mimetype": "text/x-python",
   "name": "python",
   "nbconvert_exporter": "python",
   "pygments_lexer": "ipython3",
   "version": "3.6.6"
  }
 },
 "nbformat": 4,
 "nbformat_minor": 2
}
